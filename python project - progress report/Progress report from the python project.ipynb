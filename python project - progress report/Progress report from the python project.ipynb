{
 "cells": [
  {
   "cell_type": "markdown",
   "metadata": {},
   "source": [
    "<img src=\"files/vub100.png\">\n",
    "<div>\n",
    "    <h1 align=\"center\">Master in Applied Computer Sciences and Engineering</h1></h1>\n",
    "    <h1 align=\"center\">Advanced Programming Concepts (2020-2021)</h1>\n",
    "</div>"
   ]
  },
  {
   "cell_type": "markdown",
   "metadata": {},
   "source": [
    "<div class=\"alert alert-success\">  \n",
    "</div>"
   ]
  },
  {
   "cell_type": "markdown",
   "metadata": {},
   "source": [
    "<div>\n",
    "    <h1 align=\"center\">>|< Fractal artwork designer >|<</h1></h1>\n",
    "    <h1 align=\"center\">Progress report from the python project</h1>\n",
    "    <h3 align=\"center\">By: Somayyeh Gholami & Deven Ramani</h3>\n",
    "</div>"
   ]
  },
  {
   "cell_type": "markdown",
   "metadata": {},
   "source": [
    "<div class=\"alert alert-success\">  \n",
    "</div>"
   ]
  },
  {
   "cell_type": "markdown",
   "metadata": {},
   "source": [
    "## Description:"
   ]
  },
  {
   "cell_type": "markdown",
   "metadata": {},
   "source": [
    "At first, neither of us was familiar with fractal shapes, so it took some time for general research on the subject. We have noticed that the subject of fractals has gripped attention since about 1970, but with the help of computer science, even in this short period, this topic has been developed and be applied widely in mathematics, physics, graphics, and even cinematic special effects. The variety of fractal topics was such that we decided to implement at least two of these topics. Meanwhile, we knew and were happy that by implementing two different parts, we have to use more and more diverse methods and modules(And maybe, we can get the full grade of the project :) ).\n",
    "\n",
    "Anyway, I (Somayeh Gholami) chose the **\"Game of chaos\"**. In the \"Game of chaos\", a fractal shape is drawn by creating a purposeful disorder(uncertainty). In other words, in a \" Game of chaos\" with purposeful disorder, an order can be produced !!!  On the contrary, if we want to eliminate the random cases and get new points based on a regular and repetitive procedure; A complete fractal shape is no longer created, and we are completely surprised. This was very interesting to me and I wanted to gain more experience in this field by implementing **iterated function systems (IFSs)**.\n",
    "\n",
    "\n"
   ]
  },
  {
   "cell_type": "markdown",
   "metadata": {},
   "source": [
    "<img src=\"files/fr501.jpg\"> "
   ]
  },
  {
   "cell_type": "markdown",
   "metadata": {},
   "source": [
    "My team-mate Mr. Deven Ramani decided to implement the drawing of the snow fractal and the **Mandelbrot set**. Mandelbrot set is a kind of Julia set development. Mr. Benoit Mandelbrot was able to visualize this complex collection for the first time in 1980 using a computer. This set is actually a fractal with a very, very complex boundary and has many secrets and mysteries. For example, in 1998, Mr. Mitsuhiro Shishikura proved that the dimension (fractal dimension) of this boundary, with all its complexity, is 2. That is, unlike most fractals, this is not a decimal number."
   ]
  },
  {
   "cell_type": "markdown",
   "metadata": {},
   "source": [
    "<img src=\"files/fr502.jpg\"> "
   ]
  },
  {
   "cell_type": "markdown",
   "metadata": {},
   "source": [
    "We're developing based on **Object-Oriented Programming (OOP)**. Of course, as mentioned before, we use different modules anyway. For example, I use matplotlib for drawing and Mr. Deven Ramani uses the Turtle library."
   ]
  },
  {
   "cell_type": "markdown",
   "metadata": {},
   "source": [
    "<div class=\"alert alert-success\">  \n",
    "</div>"
   ]
  },
  {
   "cell_type": "markdown",
   "metadata": {},
   "source": [
    "## Progress report:"
   ]
  },
  {
   "cell_type": "markdown",
   "metadata": {},
   "source": [
    "For the chaos game, I needed the data set that would specify the probability percentage of each random for each fractal shape, as well as the parameters of the drawing functions. The explanation is that for any fractal form, these datasets calculated by using **\"Affine transformation\"** (characterised by)**\"The Collage Theorem\"**.\n",
    "\n",
    "Anyway, I decided to use the data sets of six fractals of the book **\"Introduction to Programming in Python\"**. \n",
    "\n",
    "Data set source: https://introcs.cs.princeton.edu/python/code/"
   ]
  },
  {
   "cell_type": "code",
   "execution_count": 1,
   "metadata": {},
   "outputs": [
    {
     "name": "stdout",
     "output_type": "stream",
     "text": [
      "f_description >>> shape:(20, 6) >>> dimension:2 >>> type:<class 'numpy.ndarray'>\n"
     ]
    },
    {
     "data": {
      "text/plain": [
       "({'Fractal Name': 'Sierpinski',\n",
       "  'Probability-1': 0.3333,\n",
       "  'Probability-2': 0.3333,\n",
       "  'Probability-3': 0.3334,\n",
       "  'Probability-4': 0.0,\n",
       "  'Probability-5': 0.0,\n",
       "  'Probability-6': 0.0,\n",
       "  'Points Number': 10000,\n",
       "  'Coeff-1-X': [0.5, 0.0, 0.0],\n",
       "  'Coeff-2-X': [0.5, 0.0, 0.5],\n",
       "  'Coeff-3-X': [0.5, 0.0, 0.25],\n",
       "  'Coeff-4-X': [0.0, 0.0, 0.0],\n",
       "  'Coeff-5-X': [0.0, 0.0, 0.0],\n",
       "  'Coeff-6-X': [0.0, 0.0, 0.0],\n",
       "  'Coeff-1-Y': [0.0, 0.5, 0.0],\n",
       "  'Coeff-2-Y': [0.0, 0.5, 0.0],\n",
       "  'Coeff-3-Y': [0.0, 0.5, 0.433],\n",
       "  'Coeff-4-Y': [0.0, 0.0, 0.0],\n",
       "  'Coeff-5-Y': [0.0, 0.0, 0.0],\n",
       "  'Coeff-6-Y': [0.0, 0.0, 0.0]},\n",
       " {'Fractal Name': 'Barnsley',\n",
       "  'Probability-1': 0.01,\n",
       "  'Probability-2': 0.85,\n",
       "  'Probability-3': 0.07,\n",
       "  'Probability-4': 0.07,\n",
       "  'Probability-5': 0.0,\n",
       "  'Probability-6': 0.0,\n",
       "  'Points Number': 12000,\n",
       "  'Coeff-1-X': [0.0, 0.0, 0.5],\n",
       "  'Coeff-2-X': [0.85, 0.04, 0.075],\n",
       "  'Coeff-3-X': [0.2, -0.26, 0.4],\n",
       "  'Coeff-4-X': [-0.15, 0.28, 0.575],\n",
       "  'Coeff-5-X': [0.0, 0.0, 0.0],\n",
       "  'Coeff-6-X': [0.0, 0.0, 0.0],\n",
       "  'Coeff-1-Y': [0.0, 0.16, 0.0],\n",
       "  'Coeff-2-Y': [-0.04, 0.85, 0.18],\n",
       "  'Coeff-3-Y': [0.23, 0.22, 0.045],\n",
       "  'Coeff-4-Y': [0.26, 0.24, -0.086],\n",
       "  'Coeff-5-Y': [0.0, 0.0, 0.0],\n",
       "  'Coeff-6-Y': [0.0, 0.0, 0.0]},\n",
       " {'Fractal Name': 'tree',\n",
       "  'Probability-1': 0.12,\n",
       "  'Probability-2': 0.22,\n",
       "  'Probability-3': 0.22,\n",
       "  'Probability-4': 0.22,\n",
       "  'Probability-5': 0.22,\n",
       "  'Probability-6': 0.0,\n",
       "  'Points Number': 12000,\n",
       "  'Coeff-1-X': [0.0, 0.0, 0.55],\n",
       "  'Coeff-2-X': [0.42, 0.26, 0.29],\n",
       "  'Coeff-3-X': [0.46, -0.15, 0.27],\n",
       "  'Coeff-4-X': [0.47, -0.15, 0.265],\n",
       "  'Coeff-5-X': [0.43, 0.28, 0.285],\n",
       "  'Coeff-6-X': [0.0, 0.0, 0.0],\n",
       "  'Coeff-1-Y': [0.0, 0.6, 0.0],\n",
       "  'Coeff-2-Y': [-0.35, 0.31, 0.525],\n",
       "  'Coeff-3-Y': [0.39, 0.38, 0.105],\n",
       "  'Coeff-4-Y': [0.17, 0.42, 0.465],\n",
       "  'Coeff-5-Y': [-0.25, 0.45, 0.625],\n",
       "  'Coeff-6-Y': [0.0, 0.0, 0.0]},\n",
       " {'Fractal Name': 'Dragon',\n",
       "  'Probability-1': 0.7875,\n",
       "  'Probability-2': 0.2125,\n",
       "  'Probability-3': 0.0,\n",
       "  'Probability-4': 0.0,\n",
       "  'Probability-5': 0.0,\n",
       "  'Probability-6': 0.0,\n",
       "  'Points Number': 8000,\n",
       "  'Coeff-1-X': [0.824, 0.281, -0.1],\n",
       "  'Coeff-2-X': [0.088, 0.521, 0.534],\n",
       "  'Coeff-3-X': [0.0, 0.0, 0.0],\n",
       "  'Coeff-4-X': [0.0, 0.0, 0.0],\n",
       "  'Coeff-5-X': [0.0, 0.0, 0.0],\n",
       "  'Coeff-6-X': [0.0, 0.0, 0.0],\n",
       "  'Coeff-1-Y': [-0.212, 0.864, 0.095],\n",
       "  'Coeff-2-Y': [-0.464, -0.378, 1.041],\n",
       "  'Coeff-3-Y': [0.0, 0.0, 0.0],\n",
       "  'Coeff-4-Y': [0.0, 0.0, 0.0],\n",
       "  'Coeff-5-Y': [0.0, 0.0, 0.0],\n",
       "  'Coeff-6-Y': [0.0, 0.0, 0.0]},\n",
       " {'Fractal Name': 'swirl',\n",
       "  'Probability-1': 0.9127,\n",
       "  'Probability-2': 0.0873,\n",
       "  'Probability-3': 0.0,\n",
       "  'Probability-4': 0.0,\n",
       "  'Probability-5': 0.0,\n",
       "  'Probability-6': 0.0,\n",
       "  'Points Number': 8000,\n",
       "  'Coeff-1-X': [0.745, -0.459, 0.273],\n",
       "  'Coeff-2-X': [-0.424, -0.065, 1.093],\n",
       "  'Coeff-3-X': [0.0, 0.0, 0.0],\n",
       "  'Coeff-4-X': [0.0, 0.0, 0.0],\n",
       "  'Coeff-5-X': [0.0, 0.0, 0.0],\n",
       "  'Coeff-6-X': [0.0, 0.0, 0.0],\n",
       "  'Coeff-1-Y': [0.406, 0.887, -0.134],\n",
       "  'Coeff-2-Y': [-0.176, -0.218, 0.762],\n",
       "  'Coeff-3-Y': [0.0, 0.0, 0.0],\n",
       "  'Coeff-4-Y': [0.0, 0.0, 0.0],\n",
       "  'Coeff-5-Y': [0.0, 0.0, 0.0],\n",
       "  'Coeff-6-Y': [0.0, 0.0, 0.0]},\n",
       " {'Fractal Name': 'spiral',\n",
       "  'Probability-1': 0.8956,\n",
       "  'Probability-2': 0.0522,\n",
       "  'Probability-3': 0.0522,\n",
       "  'Probability-4': 0.0,\n",
       "  'Probability-5': 0.0,\n",
       "  'Probability-6': 0.0,\n",
       "  'Points Number': 8000,\n",
       "  'Coeff-1-X': [0.788, -0.424, 0.282],\n",
       "  'Coeff-2-X': [-0.121, 0.257, -0.111],\n",
       "  'Coeff-3-X': [0.182, -0.136, 1.018],\n",
       "  'Coeff-4-X': [0.0, 0.0, 0.0],\n",
       "  'Coeff-5-X': [0.0, 0.0, 0.0],\n",
       "  'Coeff-6-X': [0.0, 0.0, 0.0],\n",
       "  'Coeff-1-Y': [0.242, 0.859, 0.019],\n",
       "  'Coeff-2-Y': [0.151, 0.053, 0.062],\n",
       "  'Coeff-3-Y': [0.39, 0.38, 0.105],\n",
       "  'Coeff-4-Y': [0.0, 0.0, 0.0],\n",
       "  'Coeff-5-Y': [0.0, 0.0, 0.0],\n",
       "  'Coeff-6-Y': [0.0, 0.0, 0.0]})"
      ]
     },
     "execution_count": 1,
     "metadata": {},
     "output_type": "execute_result"
    }
   ],
   "source": [
    "%matplotlib inline\n",
    "\n",
    "import random\n",
    "import numpy as np\n",
    "from functools import reduce\n",
    "import matplotlib.pyplot as plt\n",
    "\n",
    "# __________________________________________________________________________________________________________\n",
    "\n",
    "# Fractals Data (Probability Percentage & Points Number) \n",
    "\n",
    "f = np.array([['Sierpinski', 'Barnsley',    'tree',   'Dragon',    'swirl',   'spiral'], \n",
    "              [     0.3333 ,      0.01 ,     0.12 ,    0.7875 ,    0.9127 ,    0.8956 ],\n",
    "              [     0.3333 ,      0.85 ,     0.22 ,    0.2125 ,    0.0873 ,    0.0522 ],\n",
    "              [     0.3334 ,      0.07 ,     0.22 ,       0.0 ,       0.0 ,    0.0522 ],\n",
    "              [        0.0 ,      0.07 ,     0.22 ,       0.0 ,       0.0 ,       0.0 ],\n",
    "              [        0.0 ,       0.0 ,     0.22 ,       0.0 ,       0.0 ,       0.0 ],\n",
    "              [        0.0 ,       0.0 ,      0.0 ,       0.0 ,       0.0 ,       0.0 ], \n",
    "              [      10000 ,     12000 ,    12000 ,      8000 ,      8000 ,      8000 ],              \n",
    "              \n",
    "# Fractals Coefficients on the X-axis (X_new == AX + BY + C)\n",
    "              \n",
    "#                          'Sierpinski',               'Barnsley',                   'tree',                 'Dragon',                  'swirl',                 'spiral'\n",
    "              [[+.5000,    0.0,    0.0], [   0.0,    0.0, +.5000], [   0.0,    0.0, +.5500], [+.8240, +.2810, -.1000], [+.7450, -.4590, +.2730], [+.7880, -.4240, +.2820]],\n",
    "              [[+.5000,    0.0, +.5000], [+.8500, +.0400, +.0750], [+.4200, +.2600, +.2900], [+.0880, +.5210, +.5340], [-.4240, -.0650, +1.093], [-.1210, +.2570, -.1110]],\n",
    "              [[+.5000,    0.0, +.2500], [+.2000, -.2600, +.4000], [+.4600, -.1500, +.2700], [   0.0,    0.0,    0.0], [   0.0,    0.0,    0.0], [+.1820, -.1360, +1.018]],             \n",
    "              [[   0.0,    0.0,    0.0], [-.1500, +.2800, +.5750], [+.4700, -.1500, +.2650], [   0.0,    0.0,    0.0], [   0.0,    0.0,    0.0], [   0.0,    0.0,    0.0]],          \n",
    "              [[   0.0,    0.0,    0.0], [   0.0,    0.0,    0.0], [+.4300, +.2800, +.2850], [   0.0,    0.0,    0.0], [   0.0,    0.0,    0.0], [   0.0,    0.0,    0.0]],\n",
    "              [[   0.0,    0.0,    0.0], [   0.0,    0.0,    0.0], [   0.0,    0.0,    0.0], [   0.0,    0.0,    0.0], [   0.0,    0.0,    0.0], [   0.0,    0.0,    0.0]],                  \n",
    "\n",
    "# Fractals Coefficients on the Y-axis (Y_new == DY + EY + F)\n",
    "              \n",
    "#                          'Sierpinski',               'Barnsley',                   'tree',                 'Dragon',                  'swirl',                 'spiral'\n",
    "              [[   0.0, +.5000,    0.0], [   0.0, +.1600,    0.0], [   0.0, +.6000,    0.0], [-.2120, +.8640, +.0950], [+.4060, +.8870, -.1340], [+.2420, +.8590, +.0190]],\n",
    "              [[   0.0, +.5000,    0.0], [-.0400, +.8500, +.1800], [-.3500, +.3100, +.5250], [-.4640, -.3780, +1.041], [-.1760, -.2180, +.7620], [+.1510, +.0530, +.0620]],\n",
    "              [[   0.0, +.5000, +.4330], [+.2300, +.2200, +.0450], [+.3900, +.3800, +.1050], [   0.0,    0.0,    0.0], [   0.0,    0.0,    0.0], [+.3900, +.3800, +.1050]],       \n",
    "              [[   0.0,    0.0,    0.0], [+.2600, +.2400, -.0860], [+.1700, +.4200, +.4650], [   0.0,    0.0,    0.0], [   0.0,    0.0,    0.0], [   0.0,    0.0,    0.0]],      \n",
    "              [[   0.0,    0.0,    0.0], [   0.0,    0.0,    0.0], [-.2500, +.4500, +.6250], [   0.0,    0.0,    0.0], [   0.0,    0.0,    0.0], [   0.0,    0.0,    0.0]],       \n",
    "              [[   0.0,    0.0,    0.0], [   0.0,    0.0,    0.0], [   0.0,    0.0,    0.0], [   0.0,    0.0,    0.0], [   0.0,    0.0,    0.0], [   0.0,    0.0,    0.0]]])          \n",
    "\n",
    "print(f'f_description >>> shape:{f.shape} >>> dimension:{f.ndim} >>> type:{type(f)}')\n",
    "# __________________________________________________________________________________________________________\n",
    "\n",
    "description_list = ['Fractal Name', 'Probability-1', 'Probability-2', 'Probability-3', \n",
    "                    'Probability-4', 'Probability-5', 'Probability-6', 'Points Number', \n",
    "                    'Coeff-1-X', 'Coeff-2-X', 'Coeff-3-X', 'Coeff-4-X', 'Coeff-5-X', 'Coeff-6-X', \n",
    "                    'Coeff-1-Y', 'Coeff-2-Y', 'Coeff-3-Y', 'Coeff-4-Y', 'Coeff-5-Y', 'Coeff-6-Y']\n",
    "\n",
    "fdict0 = dict(list(zip(description_list, f[: , 0])))\n",
    "fdict1 = dict(list(zip(description_list, f[: , 1])))\n",
    "fdict2 = dict(list(zip(description_list, f[: , 2])))\n",
    "fdict3 = dict(list(zip(description_list, f[: , 3])))\n",
    "fdict4 = dict(list(zip(description_list, f[: , 4])))\n",
    "fdict5 = dict(list(zip(description_list, f[: , 5])))\n",
    "\n",
    "fdict0 , fdict1 , fdict2 , fdict3 , fdict4 , fdict5\n",
    "# __________________________________________________________________________________________________________\n"
   ]
  },
  {
   "cell_type": "markdown",
   "metadata": {},
   "source": [
    "And for another beautiful Fractal shape, I use a data set of a challenge from the **\"reddit\"** website.\n",
    "\n",
    "Data set source: https://www.reddit.com/r/dailyprogrammer/comments/5xaoxb/20170303_challenge_304_hard_generating_a_fractal/"
   ]
  },
  {
   "cell_type": "code",
   "execution_count": 3,
   "metadata": {},
   "outputs": [
    {
     "name": "stdout",
     "output_type": "stream",
     "text": [
      "t_description >>> shape:(7, 7) >>> dimension:2 >>> type:<class 'numpy.ndarray'>\n"
     ]
    }
   ],
   "source": [
    "%matplotlib inline\n",
    "\n",
    "import random\n",
    "import numpy as np\n",
    "from functools import reduce\n",
    "import matplotlib.pyplot as plt\n",
    "\n",
    "# __________________________________________________________________________________________________________\n",
    "\n",
    "# Data set: Probability Percentage & Coefficients (X_new == AX + BY + C) (Y_new == DY + EY + D)\n",
    "\n",
    "t = np.array([['Percentage',        'A',        'B',       'C',       'D',       'E',         'F'],\n",
    "              [       0.10 ,     0.000 ,     0.000 ,    0.000 ,    0.000 ,     0.600,     -0.065 ],\n",
    "              [       0.18 ,     0.440 ,     0.000 ,    0.000 ,    0.000 ,     0.550,      0.200 ],\n",
    "              [       0.18 ,     0.343 ,    -0.248 ,   -0.030 ,    0.199 ,     0.429,      0.100 ],\n",
    "              [       0.18 ,     0.343 ,     0.248 ,    0.030 ,   -0.199 ,     0.429,      0.100 ],\n",
    "              [       0.18 ,     0.280 ,    -0.350 ,   -0.050 ,    0.280 ,     0.350,      0.000 ],\n",
    "              [       0.18 ,     0.280 ,     0.350 ,    0.050 ,   -0.280 ,     0.350,      0.000 ]]) \n",
    "\n",
    "print(f't_description >>> shape:{t.shape} >>> dimension:{t.ndim} >>> type:{type(t)}')\n",
    "# __________________________________________________________________________________________________________\n"
   ]
  },
  {
   "cell_type": "markdown",
   "metadata": {},
   "source": [
    "I plan to first draw a fractal shape (tree) with a chaos game and then implement a new chaos game to draw a set of fractal shapes (six shapes).\n",
    "\n",
    "Also, as I mentioned before, Mr. Denven Ramani is implementing the Fractal **Snowball** and **Mandelbrot set**. He has already created a basic fractal designer with two designs Tree and Snowflake. His work is still under development and it's being gradually completed at the following address and all the works of our group will be delivered on time (as scheduled).\n",
    "\n",
    "https://github.com/devenramani/fractalArt"
   ]
  },
  {
   "cell_type": "markdown",
   "metadata": {},
   "source": [
    "<div class=\"alert alert-success\">  \n",
    "</div>"
   ]
  },
  {
   "cell_type": "markdown",
   "metadata": {},
   "source": [
    "## Previously done work:"
   ]
  },
  {
   "cell_type": "markdown",
   "metadata": {},
   "source": [
    "From the beginning of the project, I worked on another notebook. In this old notebook, I used the modules from the book \"Introduction to Programming in Python\". And **my goal was to create a more Impressive and clear view of the Chaos game for the audience. In the old codes, the results were displayed as an animation(moving image), and I gave great importance to the visual aspect of the project**. After Ms. Redona Brahimetaj gave her opinion and guidance, I am writing a completely new notebook(codes) based on Object-oriented programming (OOP) with the same old datasets which will be accomplished soon and sent you. \n",
    "\n",
    "Anyway, the old notebook is an experience for me, and I learned some things in practice. As a previously done work, its related PDF has been sent you.\n",
    "\n",
    "https://github.com/SomayyehGholami/Fractals-with-python"
   ]
  },
  {
   "cell_type": "markdown",
   "metadata": {},
   "source": [
    "<div class=\"alert alert-success\">  \n",
    "</div>"
   ]
  },
  {
   "cell_type": "markdown",
   "metadata": {},
   "source": [
    "<div>\n",
    "    <h1 align=\"center\">Resource descriptions</h1></h1>\n",
    "</div>"
   ]
  },
  {
   "cell_type": "markdown",
   "metadata": {},
   "source": [
    "# Chaos game\n",
    "In mathematics, the term chaos game originally referred to a method of creating a fractal, using a polygon and an initial point selected at random inside it. The fractal is created by iteratively creating a sequence of points, starting with the initial random point, in which each point in the sequence is a given fraction of the distance between the previous point and one of the vertices of the polygon; the vertex is chosen at random in each iteration. Repeating this iterative process a large number of times, selecting the vertex at random on each iteration, and throwing out the first few points in the sequence, will often (but not always) produce a fractal shape.\n",
    "https://en.wikipedia.org/wiki/Chaos_game"
   ]
  },
  {
   "cell_type": "markdown",
   "metadata": {},
   "source": [
    "# Affine transformation\n",
    "In Euclidean geometry, an affine transformation, or an affinity (from the Latin, affinis, \"connected with\"), is a geometric transformation that preserves lines and parallelism (but not necessarily distances and angles).\n",
    "\n",
    "More generally, an affine transformation is an automorphism of an affine space (Euclidean spaces are specific affine spaces), that is, a function which maps an affine space onto itself while preserving both the dimension of any affine subspaces (meaning that it sends points to points, lines to lines, planes to planes, and so on) and the ratios of the lengths of parallel line segments. Consequently, sets of parallel affine subspaces remain parallel after an affine transformation. An affine transformation does not necessarily preserve angles between lines or distances between points, though it does preserve ratios of distances between points lying on a straight line.\n",
    "\n",
    "If X is the point set of an affine space, then every affine transformation on X can be represented as the composition of a linear transformation on X and a translation of X. Unlike a purely linear transformation, an affine transformation need not preserve the origin of the affine space. Thus, every linear transformation is affine, but not every affine transformation is linear.\n",
    "\n",
    "Examples of affine transformations include translation, scaling, homothety, similarity, reflection, rotation, shear mapping, and compositions of them in any combination and sequence.\n",
    "https://en.wikipedia.org/wiki/Affine_transformation"
   ]
  },
  {
   "cell_type": "markdown",
   "metadata": {},
   "source": [
    "# Iterated function system\n",
    "In mathematics, **iterated function systems (IFSs)** are a method of constructing fractals; the resulting fractals are often self-similar. IFS fractals are more related to set theory than fractal geometry. They were introduced in 1981.\n",
    "\n",
    "IFS fractals, as they are normally called, can be of any number of dimensions, but are commonly computed and drawn in 2D. The fractal is made up of the union of several copies of itself, each copy being transformed by a function (hence \"function system\"). The canonical example is the Sierpiński triangle. The functions are normally contractive, which means they bring points closer together and make shapes smaller. Hence, the shape of an IFS fractal is made up of several possibly-overlapping smaller copies of itself, each of which is also made up of copies of itself, ad infinitum. This is the source of its self-similar fractal nature.\n",
    "https://en.wikipedia.org/wiki/Iterated_function_system"
   ]
  },
  {
   "cell_type": "markdown",
   "metadata": {},
   "source": [
    "# Description of the book: \"Introduction to Programming in Python\"\n",
    "An iterated function system (IFS) is a general way to produce fractals like the Sierpinski triangle and the Barnsley Fern. As a first example, consider the following simple process: start by plotting a point at one of the vertices of an equilateral triangle. Then pick one of the three vertices at random and plot a new point halfway between the point just plotted and that vertex. Continue performing the same operation.\n",
    "<img src=\"files/ChaosTiny.png\"> \n",
    "https://introcs.cs.princeton.edu/python/"
   ]
  },
  {
   "cell_type": "markdown",
   "metadata": {},
   "source": [
    "# The Collage Theorem\n",
    "That the terms of mathematics may be confusing is often claimed even by professional mathematicians. As an example, spaces and sets contain points. Yet there are spaces whose \"points\" are themselves sets. Functions map points to points but also comprise (function) spaces where each is considered an indivisible one. From the mathematician's view point, the advantage of abstracting a point from its diverse incarnations is in the achieved generality. A statement is proven only once and then applied repeatedly in various disguises.\n",
    "\n",
    "Case in point - contraction mappings and the related convergence theorems. Contraction mappings are defined on metric spaces by the property that they decrease the distance between points. In complete spaces, any contraction mapping has a unique fixed point that can be found by (necessarily) convergent iterations. Convergence estimates relate proximity of iterations to the selection of the initial point. These general estimates apply as much to the solutions of integral and differential equations, matrices, and more general operators. Iterated Function Systems (IFSs) is another rewarding topic that capitalizes on the general theory.\n",
    "\n",
    "An Iterated Function System is a finite collection of contractions Fi: XX defined on a metric space X. Each extends to a mapping (different but denoted by the same letter) Fi: H(X)H(X), where H(X) is the space whose points are nonempty compact subsets of X. When endowed with the Hausdorff metric, H(X) is complete if so was X. In addition, contractions FiXX remain contractions as mappings of H(X). Together, {Fi} define another contraction F: H(X)H(X), by the following formula: for every AH(X), F(A) = ∪Fi(A). From the general theory, for a complete metric space X, F has a fixed point AF: F(AF) = AF, that can be reached by successive approximations from any starting location. Fixed points of IFSs are variously called attractors or invariant sets.\n",
    "\n",
    "Two problems arise. One is to find the fixed point of a given IFS. The other is the inverse of the first: for a given set AH(X), find an IFS {Fi} that has A as its fixed point. In the general framework, the first problem is solved by what is known as the deterministic algorithm. Start with a set A0∈H(X) and compute successively Ak = ∪Fi(Ak-1) = F(Ak-1), k > 1. The sequence {Ak) converges to the fixed point AF of {Fi} as k. The mathematics of the second, random iteration algorithm, is more complex but implementation is more straightforward. Assign positive frequencies pi to the mappings Fi. Start with an arbitrary point x0∈X. At every step k+1, select xk+1 from the set {Fi(xk)}. Fj(xk) is selected with the probability pj /pi. In a sense that is made precise in [Barnsley], the sequence {xk} converges to AF. In practical terms, to depict an approximation of AF on a computer, the points of the sequence are displayed starting with a reasonably large index. The numbers {pi} have no effect on the fixed point AF but influence significantly the rendering of its approximations.\n",
    "\n",
    "The inverse problem is solved approximately by the Collage Theorem. In the words of M. Barnsley, the theorem tells us that to find an IFS whose attractor is \"close to\" or \"looks like\" a given set, one must endeavor to find a set of transformations - contraction mappings on a suitable set within which the given set lies - such that the union, or collage, of the images of the given set under transformations is near to the given set.\n",
    "\n",
    "http://www.cut-the-knot.org/ctk/ifs.shtml"
   ]
  },
  {
   "cell_type": "markdown",
   "metadata": {},
   "source": [
    "<div class=\"alert alert-success\">  \n",
    "</div>"
   ]
  },
  {
   "cell_type": "markdown",
   "metadata": {},
   "source": [
    "<img src=\"files/fr504.png\"> "
   ]
  }
 ],
 "metadata": {
  "kernelspec": {
   "display_name": "Python 3",
   "language": "python",
   "name": "python3"
  },
  "language_info": {
   "codemirror_mode": {
    "name": "ipython",
    "version": 3
   },
   "file_extension": ".py",
   "mimetype": "text/x-python",
   "name": "python",
   "nbconvert_exporter": "python",
   "pygments_lexer": "ipython3",
   "version": "3.7.4"
  }
 },
 "nbformat": 4,
 "nbformat_minor": 2
}
